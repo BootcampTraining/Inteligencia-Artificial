{
  "cells": [
    {
      "cell_type": "markdown",
      "metadata": {
        "id": "80EIPNsWgaNR"
      },
      "source": [
        "# Programación con Python - Numpy\n",
        "\n",
        "\n",
        "NumPy es una librería de Python especializada en el cálculo numérico y el análisis de datos, especialmente para un gran volumen de datos.\n",
        "\n",
        "Incorpora una nueva clase de objetos llamados arrays que permite representar colecciones de datos de un mismo tipo en varias dimensiones, y funciones muy eficientes para su manipulación.\n",
        "\n",
        "La clase de objetos array\n",
        "Un array es una estructura de datos de un mismo tipo organizada en forma de tabla o cuadrícula de distintas dimensiones.\n",
        "\n",
        "Las dimensiones de un array también se conocen como ejes."
      ]
    },
    {
      "cell_type": "markdown",
      "metadata": {
        "id": "UGY-DvQqgaN1"
      },
      "source": [
        "### Actividad 1\n",
        "\n",
        "Crear un vector con valores dentro del rango 10 a 49"
      ]
    },
    {
      "cell_type": "code",
      "execution_count": null,
      "metadata": {
        "colab": {
          "base_uri": "https://localhost:8080/"
        },
        "id": "3k81EbAIgaN6",
        "outputId": "8d13ec4b-3ac1-4f96-993f-dcf5f5dc1c7f"
      },
      "outputs": [],
      "source": [
        "import numpy as np\n",
        "a = np.arange(10,50)\n",
        "a"
      ]
    },
    {
      "cell_type": "markdown",
      "metadata": {
        "id": "WdO2G0pZgaN8"
      },
      "source": [
        "### Actividad 2\n",
        "Crear una matriz 3x3 con valores de 0 a 8"
      ]
    },
    {
      "cell_type": "code",
      "execution_count": null,
      "metadata": {
        "colab": {
          "base_uri": "https://localhost:8080/"
        },
        "id": "E7X9XU4PgaN-",
        "outputId": "568181a4-c333-4134-f4ed-48e4dc1aaba5"
      },
      "outputs": [],
      "source": [
        "np.arange(0,9).reshape(3,3)\n"
      ]
    },
    {
      "cell_type": "markdown",
      "metadata": {
        "id": "0wK_W8OSgaOM"
      },
      "source": [
        "### Actividad 3\n",
        "\n",
        "Encontrar los indices que no son ceros del arreglo [1,2,4,2,4,0,1,0,0,0,12,4,5,6,7,0]\n"
      ]
    },
    {
      "cell_type": "code",
      "execution_count": null,
      "metadata": {
        "colab": {
          "base_uri": "https://localhost:8080/"
        },
        "id": "3ZMZBLQcgaON",
        "outputId": "46d28775-5b9c-49cc-e38f-98185760774d"
      },
      "outputs": [],
      "source": [
        "a = np.array([1,2,4,2,4,0,1,0,0,0,12,4,5,6,7,0])\n",
        "np.argwhere( a!=0 )"
      ]
    },
    {
      "cell_type": "markdown",
      "metadata": {
        "id": "HCzTMEcTiRLY"
      },
      "source": [
        "### Actividad 4 \n",
        "\n",
        "Crear una matriz identidad de 6x6"
      ]
    },
    {
      "cell_type": "code",
      "execution_count": null,
      "metadata": {
        "colab": {
          "base_uri": "https://localhost:8080/"
        },
        "id": "SB2v53I4i1Qe",
        "outputId": "9e15c32d-3236-4cb0-f25f-790ab2ce787e"
      },
      "outputs": [],
      "source": [
        "np.identity(6)"
      ]
    },
    {
      "cell_type": "markdown",
      "metadata": {
        "id": "m6mOgFOFy2tA"
      },
      "source": []
    },
    {
      "cell_type": "markdown",
      "metadata": {
        "id": "lrl_GV2wjoAq"
      },
      "source": [
        "###Actividad 5\n",
        "\n",
        "Crear una matriz con valores al azar con forma 3x3"
      ]
    },
    {
      "cell_type": "code",
      "execution_count": null,
      "metadata": {
        "colab": {
          "base_uri": "https://localhost:8080/"
        },
        "id": "jkyF_787jyrr",
        "outputId": "5b7b6982-38c9-4206-c1db-e2702b125d0e"
      },
      "outputs": [],
      "source": [
        "r = np.random.random((3,3))\n",
        "r"
      ]
    }
  ],
  "metadata": {
    "colab": {
      "collapsed_sections": [],
      "name": "Introducción a Python .ipynb",
      "provenance": []
    },
    "interpreter": {
      "hash": "9237d85c2b3ff0cc649ad76ee616237ed0cb8b63f3983003139638af459bf0e6"
    },
    "kernelspec": {
      "display_name": "Python 3.9.7 64-bit (windows store)",
      "name": "python3"
    },
    "language_info": {
      "codemirror_mode": {
        "name": "ipython",
        "version": 3
      },
      "file_extension": ".py",
      "mimetype": "text/x-python",
      "name": "python",
      "nbconvert_exporter": "python",
      "pygments_lexer": "ipython3",
      "version": "3.9.7"
    }
  },
  "nbformat": 4,
  "nbformat_minor": 0
}
