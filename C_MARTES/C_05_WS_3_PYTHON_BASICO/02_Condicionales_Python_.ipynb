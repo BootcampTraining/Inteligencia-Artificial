{
  "nbformat": 4,
  "nbformat_minor": 0,
  "metadata": {
    "kernelspec": {
      "name": "python3",
      "display_name": "Python 3.7.3 64-bit"
    },
    "language_info": {
      "codemirror_mode": {
        "name": "ipython",
        "version": 3
      },
      "file_extension": ".py",
      "mimetype": "text/x-python",
      "name": "python",
      "nbconvert_exporter": "python",
      "pygments_lexer": "ipython3",
      "version": "3.7.3"
    },
    "colab": {
      "name": "Introducción a Python .ipynb",
      "provenance": [],
      "collapsed_sections": []
    },
    "interpreter": {
      "hash": "4452263ad4ac7dcd5f4e281ccb334a7bc3480e17de1a9148c05017a944232084"
    }
  },
  "cells": [
    {
      "cell_type": "markdown",
      "metadata": {
        "id": "80EIPNsWgaNR"
      },
      "source": [
        "# Programación con Python - Condicionales\n",
        "\n",
        "La sintaxis de la construcción if es la siguiente:\n",
        "\n",
        "if condición:\n",
        "    aquí van las órdenes que se ejecutan si la condición es cierta\n",
        "    y que pueden ocupar varias líneas\n",
        "    \n",
        "Recuerda que los condicionales múltiples y anidados nos permiten evaluar múltiples casos. \n",
        "El condicional Si-Sino-Si-Finsi tiene la siguiente estructura:\n",
        "\n",
        "    Si (condición) Entonces\n",
        "        instrucción(es)\n",
        "    Sino Si\n",
        "        instrucción(es)\n",
        "    Fin Si\n",
        "  \n",
        "En Python, esto se escribe un poco diferente y la estructura general depende de las tabulaciónes.\n"
      ]
    },
    {
      "cell_type": "markdown",
      "metadata": {
        "id": "UGY-DvQqgaN1"
      },
      "source": [
        "### Actividad 1\n",
        "\n",
        "Ingresar un numero por consola y determinar si es positivo o negativo, validar el cero \n"
      ]
    },
    {
      "cell_type": "code",
      "metadata": {
        "id": "3k81EbAIgaN6",
        "colab": {
          "base_uri": "https://localhost:8080/"
        },
        "outputId": "8b43411e-1740-4c31-880e-ae7c5a1fa966"
      },
      "source": [
        "x = int(input(\"Por favor ingresa un número: \"))\n",
        "if x < 0:\n",
        "        print('El número es Negativo')\n",
        "elif x > 0:\n",
        "        print('El número es positivo')\n",
        "elif x == 0:\n",
        "        print('El número es cero')"
      ],
      "execution_count": 3,
      "outputs": [
        {
          "output_type": "stream",
          "name": "stdout",
          "text": [
            "Por favor ingresa un número: 0\n",
            "El número es cero\n"
          ]
        }
      ]
    },
    {
      "cell_type": "markdown",
      "metadata": {
        "id": "WdO2G0pZgaN8"
      },
      "source": [
        "### Actividad 2\n",
        "Escribir un programa que pida al usuario un número entero y muestre por pantalla si es par o impar."
      ]
    },
    {
      "cell_type": "code",
      "metadata": {
        "id": "E7X9XU4PgaN-",
        "colab": {
          "base_uri": "https://localhost:8080/"
        },
        "outputId": "13e4cc56-3328-45b1-87a0-20ae018ab24b"
      },
      "source": [
        "n = int(input(\"Introduce un número entero: \"))\n",
        "if n % 2 == 0:\n",
        "    print(\"El número \" + str(n) + \" es par\")\n",
        "else:\n",
        "    print(\"El número \" + str(n) + \" es impar\")\n"
      ],
      "execution_count": 4,
      "outputs": [
        {
          "output_type": "stream",
          "name": "stdout",
          "text": [
            "Introduce un número entero: 2\n",
            "El número 2 es par\n"
          ]
        }
      ]
    },
    {
      "cell_type": "markdown",
      "metadata": {
        "id": "0wK_W8OSgaOM"
      },
      "source": [
        "### Actividad 3\n",
        "\n",
        "Escribe el código para dos numeros a y b, el usuario va a seleccionar una opcion: \n",
        "       #1 para sumar, 2 para multiplicar, 3 para restar (a-b) y 4 para dividir (a/b) y \n",
        "        #retornar el resultado de la operación indicada.\n"
      ]
    },
    {
      "cell_type": "code",
      "metadata": {
        "id": "3ZMZBLQcgaON",
        "colab": {
          "base_uri": "https://localhost:8080/"
        },
        "outputId": "30773fc1-af5e-4642-e6a0-50ddc995ee83"
      },
      "source": [
        "a = int(input(\"Ingrese el primer número (a): \"))\n",
        "b = int(input(\"Ingrese el segundo número (b): \"))\n",
        "opcion = int(input(\"Ingrese la opcion (1 para sumar, 2 para multiplicar, 3 para restar (a-b) y 4 para dividir (a/b)): \"))\n",
        "    #Escribe el código para dos numeros a y b, el usuario va a seleccionar una opcion: \n",
        "        #1 para sumar, 2 para multiplicar, 3 para restar (a-b) y 4 para dividir (a/b) y \n",
        "        #retornar el resultado de la operación indicada.\n",
        "if opcion == 1:\n",
        "        total = a+b\n",
        "elif opcion == 2:\n",
        "        total = a*b\n",
        "elif opcion == 3:\n",
        "        total = a-b\n",
        "elif opcion == 4:\n",
        "        total = a/b\n",
        "\n",
        "print(\"Resultado \"+ str(total))\n"
      ],
      "execution_count": 6,
      "outputs": [
        {
          "output_type": "stream",
          "name": "stdout",
          "text": [
            "Ingrese el primer número (a): 1\n",
            "Ingrese el segundo número (b): 4\n",
            "Ingrese la opcion (1 para sumar, 2 para multiplicar, 3 para restar (a-b) y 4 para dividir (a/b)): 1\n",
            "Resultado 5\n"
          ]
        }
      ]
    },
    {
      "cell_type": "markdown",
      "metadata": {
        "id": "HCzTMEcTiRLY"
      },
      "source": [
        "### Actividad 4\n",
        "\n",
        "Para tributar un determinado impuesto se debe ser mayor de 16 años y tener unos ingresos superiores a 1000 € mensuales. Escribir un programa que pregunte al usuario su edad y sus ingresos mensuales y muestre por pantalla si el usuario tiene que tributar o no."
      ]
    },
    {
      "cell_type": "code",
      "metadata": {
        "colab": {
          "base_uri": "https://localhost:8080/"
        },
        "id": "SB2v53I4i1Qe",
        "outputId": "61ff316f-090a-4f49-9773-63a8831ed23c"
      },
      "source": [
        "age = int(input(\"¿Cuál es tu edad? \"))\n",
        "income = float(input(\"¿Cuales son tus ingresos mensuales?\"))\n",
        "if age > 16 and income >= 1000:\n",
        "    print(\"Tienes que cotizar\")\n",
        "else:\n",
        "    print(\"No tienes que cotizar\")"
      ],
      "execution_count": 8,
      "outputs": [
        {
          "output_type": "stream",
          "name": "stdout",
          "text": [
            "¿Cuál es tu edad? 15\n",
            "¿Cuales son tus ingresos mensuales?100\n",
            "No tienes que cotizar\n"
          ]
        }
      ]
    },
    {
      "cell_type": "markdown",
      "metadata": {
        "id": "lrl_GV2wjoAq"
      },
      "source": [
        "Actividad 5\n",
        "\n",
        "leer tres valores y almacenarlos en las variables A, B y C respectivamente. El algoritmo debe imprimir cual es el mayor"
      ]
    },
    {
      "cell_type": "code",
      "metadata": {
        "colab": {
          "base_uri": "https://localhost:8080/"
        },
        "id": "jkyF_787jyrr",
        "outputId": "8bb47a70-7661-4d06-8f15-874375e06c2b"
      },
      "source": [
        "A=int(input(\"ingrese un numero\\n\"))\n",
        "B=int(input(\"ingrese otro numero\\n\"))\n",
        "C=int(input(\"ingrese un nuemero\\n\"))\n",
        "if(A > B and A > C):\n",
        " print(\"El numero mayor es \" + str(A))\n",
        "else:\n",
        " if(B > A and B > C):\n",
        "  print(\"El numero mayor es \" + str(B))\n",
        " else:\n",
        "  print(\"El numero mayor es \" + str(C))"
      ],
      "execution_count": 10,
      "outputs": [
        {
          "output_type": "stream",
          "name": "stdout",
          "text": [
            "ingrese un numero\n",
            "2\n",
            "ingrese otro numero\n",
            "5\n",
            "ingrese un nuemero\n",
            "1\n",
            "El numero mayor es 5\n"
          ]
        }
      ]
    }
  ]
}