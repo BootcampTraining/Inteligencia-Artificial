{
  "cells": [
    {
      "cell_type": "markdown",
      "metadata": {
        "id": "80EIPNsWgaNR"
      },
      "source": [
        "# Introducción a Python \n",
        "\n",
        " \n",
        "\n",
        "## Python\n",
        "\n",
        "Python es un lenguaje de programación usado en ciencias e ingeniería. Es ideal para aprender programación porque su sintáxis es simple y es un lenguaje muy popular en este momento. \n",
        "\n",
        "Python permite crear programas que resuelvan problemas automatizando tareas repetitivas, procesando grandes cantidades de datos, resolviendo complejos cálculos matemáticos, o simplemente, creando visualizaciones de fenónenos complejos.\n",
        "\n",
        "Recuerda que programar significa darle instrucciones al computador para que haga lo que yo quiera. Podemos comenzar por pedirle que imprima \"hola Mundo\"\n"
      ]
    },
    {
      "cell_type": "code",
      "execution_count": 2,
      "metadata": {
        "colab": {
          "base_uri": "https://localhost:8080/"
        },
        "id": "vTnd3bRJgaNt",
        "outputId": "e4b2dc4f-ebdd-4809-f3b1-cda014ad845d"
      },
      "outputs": [
        {
          "name": "stdout",
          "output_type": "stream",
          "text": [
            "Hola mundo\n"
          ]
        }
      ],
      "source": [
        "print(\"Hola mundo\")"
      ]
    },
    {
      "cell_type": "markdown",
      "metadata": {
        "id": "UGY-DvQqgaN1"
      },
      "source": [
        "### Actividad 1\n",
        "\n",
        "Lo que hicimos fue simplemente decirle al computador que imprimiera (print) el texto que estaba entre las comillas. Escribe una instrucción para imprimir otro mensaje en el siguiente espacio y luego ejecutalo. coloca 5 datos personales\n",
        "\n"
      ]
    },
    {
      "cell_type": "code",
      "execution_count": 3,
      "metadata": {
        "colab": {
          "base_uri": "https://localhost:8080/"
        },
        "id": "3k81EbAIgaN6",
        "outputId": "384d4592-e289-48c9-bc01-2b59d67efccc"
      },
      "outputs": [
        {
          "name": "stdout",
          "output_type": "stream",
          "text": [
            "Mi nombre es Heyner: \n",
            "Mi Apellido es Cabarcas :\n"
          ]
        }
      ],
      "source": [
        "print(\"Mi nombre es Heyner: \")\n",
        "print(\"Mi Apellido es Cabarcas :\")"
      ]
    },
    {
      "cell_type": "markdown",
      "metadata": {
        "id": "WdO2G0pZgaN8"
      },
      "source": [
        "### Actividad 2\n",
        "Vamos a modificar el siguiente algoritmo para escribirlo en Python. \n",
        "\n",
        "Inicio\n",
        "\n",
        "    uno ⇐ 5\n",
        "    dos ⇐ 8\n",
        "    tres ⇐ 3\n",
        "\n",
        "    total =  uno + dos\n",
        "Fin"
      ]
    },
    {
      "cell_type": "code",
      "execution_count": null,
      "metadata": {
        "id": "E7X9XU4PgaN-"
      },
      "outputs": [],
      "source": [
        "uno = 10\n",
        "dos = 1\n",
        "tres = 5\n",
        " \n",
        "total =  uno + dos + tres\n",
        "print(total)\n"
      ]
    },
    {
      "cell_type": "markdown",
      "metadata": {
        "id": "7jxYro4NgaN_"
      },
      "source": [
        "Por ahora no vemos nada, pero qué tal si imprimirmos la variable total? Ingresa el código para imprimir la variable total"
      ]
    },
    {
      "cell_type": "code",
      "execution_count": null,
      "metadata": {
        "colab": {
          "base_uri": "https://localhost:8080/"
        },
        "id": "MWJBJ2DugaOA",
        "outputId": "08d3f1a1-32f0-4e9a-9f73-6b579530155a"
      },
      "outputs": [],
      "source": [
        "total"
      ]
    },
    {
      "cell_type": "markdown",
      "metadata": {
        "id": "ckP1fZQVgaOB"
      },
      "source": [
        "Y si quisieramos leer el valor? Python cuenta con la función input() para leer valores. "
      ]
    },
    {
      "cell_type": "code",
      "execution_count": null,
      "metadata": {
        "colab": {
          "base_uri": "https://localhost:8080/"
        },
        "id": "klm2hhu8gaOC",
        "outputId": "17b0258e-332b-4e7d-e5f1-13d9d3073414"
      },
      "outputs": [],
      "source": [
        "valor_uno = float(input())\n",
        "valor_dos = float(input())\n",
        "print(valor_uno + valor_dos)"
      ]
    },
    {
      "cell_type": "markdown",
      "metadata": {
        "id": "hydr2wDVgaOE"
      },
      "source": [
        "En el código anterior además de la función input() usamos float() para determinar el tipo de dato. Por defecto, Python leería la variable como una cadena de caracteres, pero para poder realizar operaciones aritméticas, necesitamos identificarlas como número. En este caso, float quiere decir flotante. Más adelante analizaremos otros tipos de datos.\n",
        "\n",
        "Ahora revisemos los operadores aritméticos y su sintáxis en Python\n",
        "\n",
        "<table>\n",
        "<thead><tr>\n",
        "<th>Operador</th>\n",
        "<th>Nombre</th>\n",
        "<th>Descripción</th>\n",
        "</tr>\n",
        "</thead>\n",
        "<tbody>\n",
        "<tr>\n",
        "<td><code>a + b</code></td>\n",
        "<td>Suma</td>\n",
        "<td>Suma de <code>a</code> y <code>b</code></td>\n",
        "</tr>\n",
        "<tr>\n",
        "<td><code>a - b</code></td>\n",
        "<td>Resta</td>\n",
        "<td>Diferencia entra <code>a</code> y <code>b</code></td>\n",
        "</tr>\n",
        "<tr>\n",
        "<td><code>a * b</code></td>\n",
        "<td>Multiplicación</td>\n",
        "<td>Multiplicación de <code>a</code> y <code>b</code></td>\n",
        "</tr>\n",
        "<tr>\n",
        "<td><code>a / b</code></td>\n",
        "<td>División real</td>\n",
        "<td>Resultado de <code>a</code> dividido <code>b</code></td>\n",
        "</tr>\n",
        "<tr>\n",
        "<td><code>a // b</code></td>\n",
        "<td>División con redondeo</td>\n",
        "<td>Resultado de <code>a</code> dividido b <code>b</code>, redondeo a número entero</td>\n",
        "</tr>\n",
        "<tr>\n",
        "<td><code>a % b</code></td>\n",
        "<td>Modulo</td>\n",
        "<td>Residuo de la división entre <code>a</code> y <code>b</code></td>\n",
        "</tr>\n",
        "<tr>\n",
        "<td><code>a ** b</code></td>\n",
        "<td>Potencia</td>\n",
        "<td><code>a</code> a la potencia de <code>b</code></td>\n",
        "</tr>\n",
        "<tr>\n",
        "<td><code>-a</code></td>\n",
        "<td>Negación</td>\n",
        "<td>Negativo de <code>a</code></td>\n",
        "</tr>\n",
        "</tbody></table>\n",
        "\n",
        "Observemos la diferencia entre división real y división con redondeo en Python."
      ]
    },
    {
      "cell_type": "code",
      "execution_count": null,
      "metadata": {
        "colab": {
          "base_uri": "https://localhost:8080/"
        },
        "id": "WqLDN9wKgaOK",
        "outputId": "6866c6d2-6ac3-40c4-da9f-5c7aae05367f"
      },
      "outputs": [],
      "source": [
        "print(6/2)\n",
        "print(5/2)"
      ]
    },
    {
      "cell_type": "code",
      "execution_count": null,
      "metadata": {
        "colab": {
          "base_uri": "https://localhost:8080/"
        },
        "id": "6CvBC3bdgaOL",
        "outputId": "3b404d9a-4b5c-4fc6-e2b7-1756ce17c992"
      },
      "outputs": [],
      "source": [
        "print(6//2)\n",
        "print(5//2)"
      ]
    },
    {
      "cell_type": "markdown",
      "metadata": {
        "id": "0wK_W8OSgaOM"
      },
      "source": [
        "### Actividad 3\n",
        "\n",
        "Escribe un programa que pregunte al usuario por el número de horas trabajadas y el costo por hora. Después debe mostrar por pantalla el pago que le corresponde\n"
      ]
    },
    {
      "cell_type": "code",
      "execution_count": null,
      "metadata": {
        "colab": {
          "base_uri": "https://localhost:8080/"
        },
        "id": "3ZMZBLQcgaON",
        "outputId": "263cf09d-a6af-4620-f0b7-a822f21548b5"
      },
      "outputs": [],
      "source": [
        "horas = float(input(\"Introduce tus horas de trabajo: \"))\n",
        "costo = float(input(\"Introduce lo que cobras por hora: \"))\n",
        "paga = horas * costo\n",
        "print(\"Tu pago es\", paga)\n"
      ]
    },
    {
      "cell_type": "markdown",
      "metadata": {
        "id": "G5cYXiGJcLPa"
      },
      "source": [
        "### Actividad 4\n",
        "Escribir un programa que pida al usuario su peso (en kg) y estatura (en metros), calcule el índice de masa corporal y lo almacene en una variable, y muestre por pantalla la frase Tu índice de masa corporal es <imc> donde <imc> es el índice de masa corporal calculado redondeado con dos decimales."
      ]
    },
    {
      "cell_type": "code",
      "execution_count": null,
      "metadata": {
        "colab": {
          "base_uri": "https://localhost:8080/"
        },
        "id": "PZiDM_fuccfs",
        "outputId": "24717e9a-891e-4ff8-d110-f1c269710188"
      },
      "outputs": [],
      "source": [
        "peso = input(\"¿Cuál es tu peso en kg? \")\n",
        "estatura = input(\"¿Cuál es tu estatura en metros?\")\n",
        "imc = round(float(peso)/float(estatura)**2,2)\n",
        "print(\"Tu índice de masa corporal es \" + str(imc))"
      ]
    },
    {
      "cell_type": "markdown",
      "metadata": {
        "id": "Ykp3GvAEcpFL"
      },
      "source": [
        "### Actividad 5\n",
        "Una juguetería tiene mucho éxito en dos de sus productos: payasos y muñecas. Suele hacer venta por correo y la empresa de logística les cobra por peso de cada paquete así que deben calcular el peso de los payasos y muñecas que saldrán en cada paquete a demanda. Cada payaso pesa 112 g y cada muñeca 75 g. Escribir un programa que lea el número de payasos y muñecas vendidos en el último pedido y calcule el peso total del paquete que será enviado."
      ]
    },
    {
      "cell_type": "code",
      "execution_count": null,
      "metadata": {
        "colab": {
          "base_uri": "https://localhost:8080/"
        },
        "id": "ru55zawHczeC",
        "outputId": "f3803779-588a-4e2e-e2c3-7b0c9476ab85"
      },
      "outputs": [],
      "source": [
        "peso_payaso = 112\n",
        "peso_muñeca = 75\n",
        "payasos = int(input(\"Introduce el número de payasos a enviar: \"))\n",
        "muñecas = int(input(\"Introduce el número de muñecas a enviar: \"))\n",
        "peso_total = peso_payaso * payasos + peso_muñeca * muñecas\n",
        "print(\"El peso total del paquete es \" + str(peso_total))"
      ]
    }
  ],
  "metadata": {
    "colab": {
      "collapsed_sections": [],
      "name": "Introducción a Python .ipynb",
      "provenance": []
    },
    "interpreter": {
      "hash": "9237d85c2b3ff0cc649ad76ee616237ed0cb8b63f3983003139638af459bf0e6"
    },
    "kernelspec": {
      "display_name": "Python 3.9.7 64-bit (windows store)",
      "name": "python3"
    },
    "language_info": {
      "codemirror_mode": {
        "name": "ipython",
        "version": 3
      },
      "file_extension": ".py",
      "mimetype": "text/x-python",
      "name": "python",
      "nbconvert_exporter": "python",
      "pygments_lexer": "ipython3",
      "version": "3.9.7"
    }
  },
  "nbformat": 4,
  "nbformat_minor": 2
}
