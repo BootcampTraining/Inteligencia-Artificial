{
  "nbformat": 4,
  "nbformat_minor": 0,
  "metadata": {
    "kernelspec": {
      "name": "python3",
      "display_name": "Python 3.7.3 64-bit"
    },
    "language_info": {
      "codemirror_mode": {
        "name": "ipython",
        "version": 3
      },
      "file_extension": ".py",
      "mimetype": "text/x-python",
      "name": "python",
      "nbconvert_exporter": "python",
      "pygments_lexer": "ipython3",
      "version": "3.7.3"
    },
    "colab": {
      "name": "Introducción a Python .ipynb",
      "provenance": [],
      "collapsed_sections": []
    },
    "interpreter": {
      "hash": "4452263ad4ac7dcd5f4e281ccb334a7bc3480e17de1a9148c05017a944232084"
    }
  },
  "cells": [
    {
      "cell_type": "markdown",
      "metadata": {
        "id": "80EIPNsWgaNR"
      },
      "source": [
        "# Programación con Python - Ciclos Repetitivos \n",
        "\n",
        "\n",
        "El ciclo Para o For en Python nos ayuda a ejecutar dentro dentro de un rango determinado de iteraciones. \n",
        "Esto es particularmente útil cuando usamos estructuras de datos que son inherentement \"ordenadas\"; listas, colecciones, cadenas de caracteres, etc."
      ]
    },
    {
      "cell_type": "markdown",
      "metadata": {
        "id": "UGY-DvQqgaN1"
      },
      "source": [
        "### Actividad 1\n",
        "\n",
        "Escribir un programa que pida al usuario una palabra y la muestre 10 veces por pantalla.\n"
      ]
    },
    {
      "cell_type": "code",
      "metadata": {
        "id": "3k81EbAIgaN6",
        "colab": {
          "base_uri": "https://localhost:8080/"
        },
        "outputId": "895a6a4e-17d1-4c39-e4ff-6e6761dfe0c7"
      },
      "source": [
        "word = input(\"Introduce una palabra: \")\n",
        "for i in range(10):\n",
        "    print(word)"
      ],
      "execution_count": 11,
      "outputs": [
        {
          "output_type": "stream",
          "name": "stdout",
          "text": [
            "Introduce una palabra: mm\n",
            "mm\n",
            "mm\n",
            "mm\n",
            "mm\n",
            "mm\n",
            "mm\n",
            "mm\n",
            "mm\n",
            "mm\n",
            "mm\n"
          ]
        }
      ]
    },
    {
      "cell_type": "markdown",
      "metadata": {
        "id": "WdO2G0pZgaN8"
      },
      "source": [
        "### Actividad 2\n",
        "Escribe un algoritmo que lea 10 números e imprima cuantos son pares y impares, neutros(0)."
      ]
    },
    {
      "cell_type": "code",
      "metadata": {
        "id": "E7X9XU4PgaN-",
        "colab": {
          "base_uri": "https://localhost:8080/"
        },
        "outputId": "28f3f34d-27a9-479a-f78d-5f943bead448"
      },
      "source": [
        "pares = 0\n",
        "impares = 0\n",
        "neutro = 0\n",
        "for i in range(5):\n",
        "  num = int(input(\"Ingresa un número: \"))\n",
        "  if num == 0:\n",
        "      neutro += 1\n",
        "  elif num%2 == 0:\n",
        "      pares += 1\n",
        "  else:\n",
        "      impares += 1\n",
        "    \n",
        "print(\"Pares: \"+ str(pares))\n",
        "print(\"Impares: \"+ str(impares))\n",
        "print(\"Neutros: \"+ str(neutro))\n"
      ],
      "execution_count": 27,
      "outputs": [
        {
          "output_type": "stream",
          "name": "stdout",
          "text": [
            "Ingresa un número: 5\n",
            "Ingresa un número: 0\n",
            "Ingresa un número: 2\n",
            "Ingresa un número: 2\n",
            "Ingresa un número: 2\n",
            "Pares: 3\n",
            "Impares: 1\n",
            "Neutros: 1\n"
          ]
        }
      ]
    },
    {
      "cell_type": "markdown",
      "metadata": {
        "id": "0wK_W8OSgaOM"
      },
      "source": [
        "### Actividad 3\n",
        "\n",
        "Escribe un algoritmo que lea 10 números e imprima cuantos son positivos, negativos y neutros(0)\n"
      ]
    },
    {
      "cell_type": "code",
      "metadata": {
        "id": "3ZMZBLQcgaON",
        "colab": {
          "base_uri": "https://localhost:8080/"
        },
        "outputId": "30773fc1-af5e-4642-e6a0-50ddc995ee83"
      },
      "source": [
        "positivos = 0\n",
        "negativos = 0\n",
        "neutro = 0\n",
        "for i in range(5):\n",
        "  num = int(input(\"Ingresa un número: \"))\n",
        "  if num == 0:\n",
        "      neutro += 1\n",
        "  elif num%2 == 0:\n",
        "      positivos += 1\n",
        "  else:\n",
        "      negativos += 1\n",
        "    \n",
        "print(\"Positivos: \"+ str(positivos))\n",
        "print(\"Negativos: \"+ str(negativos))\n",
        "print(\"Neutros: \"+ str(neutro))\n",
        "\n"
      ],
      "execution_count": 6,
      "outputs": [
        {
          "output_type": "stream",
          "name": "stdout",
          "text": [
            "Ingrese el primer número (a): 1\n",
            "Ingrese el segundo número (b): 4\n",
            "Ingrese la opcion (1 para sumar, 2 para multiplicar, 3 para restar (a-b) y 4 para dividir (a/b)): 1\n",
            "Resultado 5\n"
          ]
        }
      ]
    },
    {
      "cell_type": "markdown",
      "metadata": {
        "id": "HCzTMEcTiRLY"
      },
      "source": [
        "Un bucle while permite repetir la ejecución de un grupo de instrucciones mientras se\n",
        "cumpla una condición (es decir, mientras la condición tenga el valor True).\n",
        "\n",
        "### Actividad 4 Ciclo - While\n",
        "\n",
        "Leer números enteros de teclado, hasta que el usuario ingrese el 0. Finalmente, mostrar la sumatoria de todos los números ingresados"
      ]
    },
    {
      "cell_type": "code",
      "metadata": {
        "colab": {
          "base_uri": "https://localhost:8080/"
        },
        "id": "SB2v53I4i1Qe",
        "outputId": "4fbbe597-ecb0-4b54-b0a5-73a2fe7c4df4"
      },
      "source": [
        "total=0\n",
        "nro=int(input(\"Número: \"))\n",
        "while nro != 0:\n",
        "    total+=nro\n",
        "    nro=int(input(\"Número: \"))\n",
        "print(total)"
      ],
      "execution_count": 30,
      "outputs": [
        {
          "output_type": "stream",
          "name": "stdout",
          "text": [
            "Número: 2\n",
            "Número: 1\n",
            "Número: 2\n",
            "Número: 0\n",
            "5\n"
          ]
        }
      ]
    },
    {
      "cell_type": "markdown",
      "metadata": {
        "id": "lrl_GV2wjoAq"
      },
      "source": [
        "Actividad 5\n",
        "\n",
        "Elaborar un ejercicio que pida un número al usuario, e imprima todos los números pares desde 2 hasta el número. "
      ]
    },
    {
      "cell_type": "code",
      "metadata": {
        "colab": {
          "base_uri": "https://localhost:8080/"
        },
        "id": "jkyF_787jyrr",
        "outputId": "7cc00dc5-36ec-41c8-842a-964407b7bd0e"
      },
      "source": [
        "numero = int(input(\"Ingresa un número: \"))\n",
        "i = 2\n",
        "while i < numero:\n",
        "  print(i)\n",
        "  i += 2"
      ],
      "execution_count": 37,
      "outputs": [
        {
          "output_type": "stream",
          "name": "stdout",
          "text": [
            "Ingresa un número: 5\n",
            "2\n",
            "4\n"
          ]
        }
      ]
    }
  ]
}